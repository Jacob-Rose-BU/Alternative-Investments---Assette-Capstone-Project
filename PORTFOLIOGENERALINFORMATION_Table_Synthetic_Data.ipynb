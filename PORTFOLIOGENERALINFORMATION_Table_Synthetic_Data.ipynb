{
  "nbformat": 4,
  "nbformat_minor": 0,
  "metadata": {
    "colab": {
      "provenance": [],
      "authorship_tag": "ABX9TyM3DNsbKFlR/pas93aFsS3A",
      "include_colab_link": true
    },
    "kernelspec": {
      "name": "python3",
      "display_name": "Python 3"
    },
    "language_info": {
      "name": "python"
    }
  },
  "cells": [
    {
      "cell_type": "markdown",
      "metadata": {
        "id": "view-in-github",
        "colab_type": "text"
      },
      "source": [
        "<a href=\"https://colab.research.google.com/github/Jacob-Rose-BU/Alternative-Investments---Assette-Capstone-Project/blob/main/PORTFOLIOGENERALINFORMATION_Table_Synthetic_Data.ipynb\" target=\"_parent\"><img src=\"https://colab.research.google.com/assets/colab-badge.svg\" alt=\"Open In Colab\"/></a>"
      ]
    },
    {
      "cell_type": "markdown",
      "source": [
        "#ALTERNATIVES_PORTFOLIOS Table – Synthetic Data Documentation\n",
        "This synthetic dataset models metadata for alternative investment portfolios. It is intended to simulate real-world financial data for development, testing, and reporting purposes (e.g., factsheets, internal dashboards). The file is structured for Snowflake ingestion and integration into a broader data warehouse ecosystem.\n",
        "\n",
        "| Column Name                | Description                                                                                      |\n",
        "| -------------------------- | ------------------------------------------------------------------------------------------------ |\n",
        "| `PORTFOLIOCODE`            | Unique code for each portfolio. Serves as the **primary key** and may be reused in other tables. |\n",
        "| `NAME`                     | Name of the portfolio, including the strategy label (e.g., \"Acme Capital Growth Strategy\").      |\n",
        "| `INVESTMENTSTYLE`          | Investment philosophy or style (e.g., Growth, Absolute Return).                                  |\n",
        "| `PORTFOLIOCATEGORY`        | Broad classification of the portfolio (e.g., Alternatives, Fixed Income, Private Markets).       |\n",
        "| `OPENDATE`                 | Date the portfolio was opened. Precedes inception and termination dates.                         |\n",
        "| `PERFORMANCEINCEPTIONDATE` | Date when performance tracking began. Useful for YTD or benchmark comparison logic.              |\n",
        "| `TERMINATIONDATE`          | Termination date of the portfolio (if applicable).                                               |\n",
        "| `BASECURRENCYCODE`         | ISO 3-letter currency code (e.g., USD, EUR).                                                     |\n",
        "| `BASECURRENCYNAME`         | Full currency name for clarity (e.g., US Dollar, Euro).                                          |\n",
        "| `ISBEGINOFDAYPERFORMANCE`  | Flag indicating whether performance is tracked from the beginning of each trading day.           |\n",
        "| `PRODUCTCODE`              | Foreign key reference to the related product or fund (from the PRODUCTMASTER table).             |\n",
        "\n",
        "All dates are in YYYY-MM-DD format and follow a logical progression:\n",
        "OPENDATE < PERFORMANCEINCEPTIONDATE < TERMINATIONDATE\n",
        "\n",
        "Currencies and investment styles are drawn from standardized YAML configuration files to ensure modularity and consistency.\n",
        "\n",
        "Keys like PORTFOLIOCODE and PRODUCTCODE may be reused in related tables\n",
        "(e.g., fund performance, holdings, commentary, attribution) as foreign key proxies."
      ],
      "metadata": {
        "id": "Y_ieElALH2aG"
      }
    },
    {
      "cell_type": "code",
      "source": [
        "import yaml\n",
        "import pandas as pd\n",
        "import random\n",
        "from faker import Faker\n",
        "from datetime import datetime\n",
        "from google.colab import files"
      ],
      "metadata": {
        "id": "g8CTGSlEG5CU"
      },
      "execution_count": null,
      "outputs": []
    },
    {
      "cell_type": "code",
      "source": [
        "uploaded = files.upload()  # Upload portfolio_config.yaml"
      ],
      "metadata": {
        "id": "5BuH9v_sG7KF"
      },
      "execution_count": null,
      "outputs": []
    },
    {
      "cell_type": "code",
      "source": [
        "# Load the YAML config\n",
        "with open(\"portfolio_config.yaml\", \"r\") as f:\n",
        "    config = yaml.safe_load(f)['portfolio_config']\n",
        "\n",
        "# Initialize Faker and seed\n",
        "fake = Faker()\n",
        "random.seed(42)"
      ],
      "metadata": {
        "id": "BfCGtm6uG-Le"
      },
      "execution_count": null,
      "outputs": []
    },
    {
      "cell_type": "code",
      "source": [
        "# Extract values from YAML\n",
        "num_rows = config['num_rows']\n",
        "investment_styles = config['investment_styles']\n",
        "portfolio_categories = config['portfolio_categories']\n",
        "currency_map = config['currency_map']\n",
        "is_bod_perf_options = config['is_bod_perf_options']\n",
        "\n",
        "# Generate unique PRODUCTCODEs to simulate FK\n",
        "product_codes = [f\"PRD{i:04d}\" for i in range(1, num_rows + 1)]"
      ],
      "metadata": {
        "id": "SSF3hwdAHDhu"
      },
      "execution_count": null,
      "outputs": []
    },
    {
      "cell_type": "code",
      "execution_count": null,
      "metadata": {
        "id": "5ac307s7GezX"
      },
      "outputs": [],
      "source": [
        "# Build synthetic rows\n",
        "synthetic_portfolios = []\n",
        "\n",
        "for i in range(num_rows):\n",
        "    portfolio_code = f\"PORT{i:04d}\"\n",
        "    style = random.choice(investment_styles)\n",
        "    name = f\"{fake.company()} {style} Strategy\"\n",
        "    category = random.choice(portfolio_categories)\n",
        "\n",
        "    currency_code = random.choice(list(currency_map.keys()))\n",
        "    currency_name = currency_map[currency_code]\n",
        "    is_bod_perf = random.choice(is_bod_perf_options)\n",
        "    product_code = random.choice(product_codes)\n",
        "\n",
        "    # Generate dates in logical order\n",
        "    open_date = fake.date_between(start_date='-10y', end_date='-5y')\n",
        "    perf_inception_date = fake.date_between(start_date=open_date, end_date='-2y')\n",
        "    termination_date = fake.date_between(start_date=perf_inception_date, end_date='today')\n",
        "\n",
        "    # Add row\n",
        "    synthetic_portfolios.append({\n",
        "        \"PORTFOLIOCODE\": portfolio_code,\n",
        "        \"NAME\": name,\n",
        "        \"INVESTMENTSTYLE\": style,\n",
        "        \"PORTFOLIOCATEGORY\": category,\n",
        "        \"OPENDATE\": open_date,\n",
        "        \"PERFORMANCEINCEPTIONDATE\": perf_inception_date,\n",
        "        \"TERMINATIONDATE\": termination_date,\n",
        "        \"BASECURRENCYCODE\": currency_code,\n",
        "        \"BASECURRENCYNAME\": currency_name,\n",
        "        \"ISBEGINOFDAYPERFORMANCE\": is_bod_perf,\n",
        "        \"PRODUCTCODE\": product_code\n",
        "    })"
      ]
    },
    {
      "cell_type": "code",
      "source": [
        "# Convert to DataFrame\n",
        "df_portfolios = pd.DataFrame(synthetic_portfolios)\n",
        "\n",
        "# Save output\n",
        "df_portfolios.to_csv(\"portfoliogeneralinformation_table_synthetic_data.csv\", index=False)\n",
        "print(\"✅ Synthetic data generated and saved as portfoliogeneralinformation_table_synthetic_data.csv\")\n",
        "\n",
        "# Preview\n",
        "df_portfolios.head()"
      ],
      "metadata": {
        "id": "5bVfFcrrGlLU"
      },
      "execution_count": null,
      "outputs": []
    },
    {
      "cell_type": "markdown",
      "source": [
        "##Potential Snowflake Implementation\n",
        "This code is intended not only to demonstrate realistic data generation for academic or testing purposes but also to support end-to-end data pipelines where Snowflake acts as the target data warehouse. With minimal adjustments (e.g., schema renaming, batch control), this data can be used in:\n",
        "* Report generation (e.g., Assette)\n",
        "* Performance attribution systems\n",
        "* ESG dashboards\n",
        "* Fund analytics platforms\n",
        "\n",
        "The code below shows a programmatic load using snowflake.connector in Python. Please see example.env to include your Snowflake database and API keys."
      ],
      "metadata": {
        "id": "6UgQfE7-Hggu"
      }
    },
    {
      "cell_type": "code",
      "source": [
        "import snowflake.connector\n",
        "\n",
        "# Load credentials\n",
        "load_dotenv()\n",
        "\n",
        "sf_user = os.getenv(\"SNOWFLAKE_USER\")\n",
        "sf_password = os.getenv(\"SNOWFLAKE_PASSWORD\")\n",
        "sf_account = os.getenv(\"SNOWFLAKE_ACCOUNT\")\n",
        "sf_database = os.getenv(\"SNOWFLAKE_DATABASE\")\n",
        "sf_schema = os.getenv(\"SNOWFLAKE_SCHEMA\")\n",
        "sf_warehouse = os.getenv(\"SNOWFLAKE_WAREHOUSE\")\n",
        "\n",
        "# Connect to Snowflake\n",
        "conn = snowflake.connector.connect(\n",
        "    user=sf_user,\n",
        "    password=sf_password,\n",
        "    account=sf_account,\n",
        "    warehouse=sf_warehouse,\n",
        "    database=sf_database,\n",
        "    schema=sf_schema\n",
        ")\n",
        "\n",
        "cursor = conn.cursor()\n",
        "\n",
        "# Function to upload DataFrame\n",
        "def append_to_snowflake(df, table_name):\n",
        "    try:\n",
        "        # Create temp CSV\n",
        "        temp_csv = \"/tmp/temp_fund_upload.csv\"\n",
        "        df.to_csv(temp_csv, index=False)\n",
        "\n",
        "        # Create staging area in memory\n",
        "        cursor.execute(f\"PUT file://{temp_csv} @%{table_name} OVERWRITE = TRUE\")\n",
        "\n",
        "        # Copy from staged CSV to table\n",
        "        columns = \",\".join(df.columns)\n",
        "        cursor.execute(f\"\"\"\n",
        "            COPY INTO {table_name}\n",
        "            FROM @%{table_name}\n",
        "            FILE_FORMAT = (TYPE = CSV FIELD_OPTIONALLY_ENCLOSED_BY='\"' SKIP_HEADER=1)\n",
        "        \"\"\")\n",
        "\n",
        "        print(f\"✅ Data appended to {table_name} in Snowflake\")\n",
        "\n",
        "    except Exception as e:\n",
        "        print(\"❌ Failed to upload data:\", e)\n",
        "    finally:\n",
        "        cursor.close()\n",
        "        conn.close()\n",
        "\n",
        "# Example usage:\n",
        "append_to_snowflake(df_portfolios, \"PORTFOLIOGENERALINFORMATION\")"
      ],
      "metadata": {
        "id": "0qq1E8VSHc3Z"
      },
      "execution_count": null,
      "outputs": []
    }
  ]
}